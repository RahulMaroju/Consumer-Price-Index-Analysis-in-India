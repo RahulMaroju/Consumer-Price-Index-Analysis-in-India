{
 "cells": [
  {
   "cell_type": "code",
   "execution_count": 1,
   "metadata": {
    "scrolled": true
   },
   "outputs": [],
   "source": [
    "import numpy as np\n",
    "from pandas import read_csv\n",
    "from scipy import stats\n",
    "from sklearn.cluster import KMeans\n",
    "from sklearn.metrics import silhouette_score\n",
    "import matplotlib.pyplot as plt"
   ]
  },
  {
   "cell_type": "code",
   "execution_count": 2,
   "metadata": {},
   "outputs": [
    {
     "name": "stdout",
     "output_type": "stream",
     "text": [
      "['Cereals and products' 'Meat and fish' 'Egg' 'Milk and products'\n",
      " 'Oils and fats' 'Fruits' 'Vegetables' 'Pulses and products'\n",
      " 'Sugar and Confectionery' 'Spices' 'Non-alcoholic beverages'\n",
      " 'Prepared meals, snacks, sweets etc.' 'Food and beverages'\n",
      " 'Pan, tobacco and intoxicants' 'Clothing' 'Footwear'\n",
      " 'Clothing and footwear' 'Housing' 'Fuel and light'\n",
      " 'Household goods and services' 'Health' 'Transport and communication'\n",
      " 'Recreation and amusement' 'Education' 'Personal care and effects'\n",
      " 'Miscellaneous' 'General index']\n",
      "[['Rural' 2013 'January' ... 104.7 104.0 105.1]\n",
      " ['Urban' 2013 'January' ... 104.3 103.7 104.0]\n",
      " ['Rural+Urban' 2013 'January' ... 104.5 103.9 104.6]\n",
      " ...\n",
      " ['Rural' 2017 'July' ... 124.4 128.6 136.2]\n",
      " ['Urban' 2017 'July' ... 122.4 123.0 131.8]\n",
      " ['Rural+Urban' 2017 'July' ... 123.6 125.9 134.2]]\n",
      "(165, 30)\n",
      "[nan nan nan nan nan nan nan nan nan nan nan nan nan nan nan nan nan nan\n",
      " nan nan nan nan nan nan nan nan nan nan nan nan nan nan nan nan nan nan\n",
      " nan nan nan nan nan nan nan nan nan nan nan nan nan nan nan nan nan nan\n",
      " nan]\n",
      "['Cereals and products' 'Meat and fish' 'Egg' 'Milk and products'\n",
      " 'Oils and fats' 'Fruits' 'Vegetables' 'Pulses and products'\n",
      " 'Sugar and Confectionery' 'Spices' 'Non-alcoholic beverages'\n",
      " 'Prepared meals, snacks, sweets etc.' 'Food and beverages'\n",
      " 'Pan, tobacco and intoxicants' 'Clothing' 'Footwear'\n",
      " 'Clothing and footwear' 'Fuel and light' 'Household goods and services'\n",
      " 'Health' 'Transport and communication' 'Recreation and amusement'\n",
      " 'Education' 'Personal care and effects' 'Miscellaneous' 'General index']\n",
      "26\n",
      "(55, 26)\n"
     ]
    }
   ],
   "source": [
    "temp=read_csv('cpi.csv')\n",
    "labels=np.array(temp.keys()[3:-2])  #Market basket\n",
    "print labels\n",
    "data=np.array(temp.as_matrix())[:, :-2]  #CPIs of the market basket\n",
    "print data\n",
    "print np.shape(data)\n",
    "labels=np.concatenate([labels[:17], labels[18:]])\n",
    "#Excluding the housing data as some parts of the data is missing\n",
    "housing_rural=data[0::3, 20]\n",
    "print housing_rural\n",
    "print labels\n",
    "print np.size(labels)\n",
    "cpis_rural=np.concatenate([data[0::3, 3:20], data[0::3, 21:]], 1)    #Rural CPIs excluding housing\n",
    "housing_urban=data[1::3, 20]\n",
    "cpis_urban=np.concatenate([data[1::3, 3:20], data[1::3, 21:]], 1)    #Urban CPIs excluding housing\n",
    "housing_total=data[2::3, 20]\n",
    "cpis_total=np.concatenate([data[2::3, 3:20], data[2::3, 21:]], 1)    #Total CPIs excluding housing\n",
    "gi_rural=data[0::3, -1]\n",
    "gi_urban=data[1::3, -1]\n",
    "gi_total=data[2::3, -1]\n",
    "#print labels\n",
    "print np.shape(cpis_rural)"
   ]
  },
  {
   "cell_type": "code",
   "execution_count": 3,
   "metadata": {},
   "outputs": [
    {
     "name": "stdout",
     "output_type": "stream",
     "text": [
      "[105.1 105.8 106.0 106.4 107.2 108.9 110.7 112.1 114.2 115.5 117.4 115.5\n",
      " 114.2 114.0 114.6 115.4 116.0 117.0 119.5 120.7 120.9 121.0 121.1 120.3\n",
      " 120.3 120.6 121.1 121.5 122.4 124.1 124.7 126.1 127.0 127.7 128.3 127.9\n",
      " 128.1 127.9 128.0 129.0 130.3 131.9 133.0 133.5 133.4 133.8 133.6 132.8\n",
      " 132.4 132.6 132.8 132.9 133.3 133.9 136.2]\n"
     ]
    }
   ],
   "source": [
    "print gi_rural"
   ]
  },
  {
   "cell_type": "code",
   "execution_count": 4,
   "metadata": {},
   "outputs": [],
   "source": [
    "def pearsonr_matrix(x, axis=0):\n",
    "    if axis==0:\n",
    "        l=np.size(x, 1)    #No. of features\n",
    "        r_pearson=np.empty([l, l])\n",
    "        for i in range(l-1):\n",
    "            r_pearson[i, i]=1\n",
    "            for j in range(i+1, l):\n",
    "                r_pearson[i, j]=stats.pearsonr(x[:, i], x[:, j])[0]\n",
    "                r_pearson[j, i]=r_pearson[i, j]\n",
    "        r_pearson[l-1, l-1]=1\n",
    "        return r_pearson\n",
    "    else:\n",
    "        l=np.size(x, 0)    #No. of features\n",
    "        r_pearson=np.empty([l, l])\n",
    "        for i in range(l-1):\n",
    "            r_pearson[i, i]=1\n",
    "            for j in range(i+1, l):\n",
    "                r_pearson[i, j]=stats.pearsonr(x[i, :], x[j, :])[0]\n",
    "                r_pearson[j, i]=r_pearson[i, j]\n",
    "        r_pearson[l-1, l-1]=1\n",
    "        return r_pearson"
   ]
  },
  {
   "cell_type": "code",
   "execution_count": 5,
   "metadata": {},
   "outputs": [],
   "source": [
    "def kendalltau_matrix(x, axis=0):\n",
    "    if axis==0:\n",
    "        l=np.size(x, 1)    #No. of features\n",
    "        r_kendalltau=np.empty([l, l])\n",
    "        for i in range(l-1):\n",
    "            r_kendalltau[i, i]=1\n",
    "            for j in range(i+1, l):\n",
    "                r_kendalltau[i, j]=stats.kendalltau(x[:, i], x[:, j])[0]\n",
    "                r_kendalltau[j, i]=r_kendalltau[i, j]\n",
    "        r_kendalltau[l-1, l-1]=1\n",
    "        return r_kendalltau\n",
    "    else:\n",
    "        l=np.size(x, 0)    #No. of features\n",
    "        r_kendalltau=np.empty([l, l])\n",
    "        for i in range(l-1):\n",
    "            r_kendalltau[i, i]=1\n",
    "            for j in range(i+1, l):\n",
    "                r_kendalltau[i, j]=stats.kendalltau(x[i, :], x[j, :])[0]\n",
    "                r_kendalltau[j, i]=r_kendalltau[i, j]\n",
    "        r_kendalltau[l-1, l-1]=1\n",
    "        return r_kendalltau"
   ]
  },
  {
   "cell_type": "code",
   "execution_count": 6,
   "metadata": {},
   "outputs": [
    {
     "name": "stdout",
     "output_type": "stream",
     "text": [
      "(26, 26)\n",
      "[[ 1.          0.95575779  0.87788708  0.97478511  0.92878615  0.91962744\n",
      "   0.23552269  0.7362914   0.48648992  0.9445645   0.976784    0.97697529\n",
      "   0.93435721  0.96333863  0.97899617  0.97681695  0.97873135  0.9711755\n",
      "   0.97660476  0.97109998  0.94340324  0.97735601  0.97317211  0.95089582\n",
      "   0.98516922  0.97072221]\n",
      " [ 0.95575779  1.          0.85032211  0.97199962  0.94830793  0.91707223\n",
      "   0.26099147  0.82838119  0.46472334  0.97046154  0.98587174  0.98297407\n",
      "   0.95473278  0.98332356  0.98276062  0.98261961  0.98270785  0.9742817\n",
      "   0.98432188  0.98397362  0.8760754   0.98499475  0.98443162  0.95995319\n",
      "   0.98277326  0.98053752]\n",
      " [ 0.87788708  0.85032211  1.          0.8434415   0.87370579  0.72777558\n",
      "   0.19803962  0.7609274   0.47644009  0.87062241  0.86587611  0.86467188\n",
      "   0.83785874  0.85409608  0.86893077  0.86375914  0.86865138  0.84766742\n",
      "   0.86469348  0.86475078  0.81852993  0.86709182  0.85802508  0.88550294\n",
      "   0.87592041  0.86454401]\n",
      " [ 0.97478511  0.97199962  0.8434415   1.          0.9300755   0.94518769\n",
      "   0.25456012  0.80389914  0.37536987  0.9719786   0.98819607  0.99008996\n",
      "   0.95451216  0.97897863  0.99149661  0.9923996   0.99153711  0.9777142\n",
      "   0.98957518  0.9830282   0.87921951  0.98836646  0.98787483  0.93887566\n",
      "   0.98227368  0.98179662]\n",
      " [ 0.92878615  0.94830793  0.87370579  0.9300755   1.          0.82050499\n",
      "   0.13243898  0.86816833  0.53962546  0.9719709   0.96427002  0.96721919\n",
      "   0.90365012  0.97728422  0.96580911  0.9642639   0.9659704   0.96533154\n",
      "   0.96804692  0.97610078  0.83994378  0.96950725  0.96336734  0.97614097\n",
      "   0.96830318  0.94621571]\n",
      " [ 0.91962744  0.91707223  0.72777558  0.94518769  0.82050499  1.\n",
      "   0.2826747   0.68289101  0.35362926  0.87873257  0.91088066  0.91124737\n",
      "   0.89988911  0.89141502  0.91556288  0.91647527  0.91566486  0.88957591\n",
      "   0.91246904  0.89927203  0.86869421  0.9111085   0.91118205  0.85591856\n",
      "   0.91242899  0.91627159]\n",
      " [ 0.23552269  0.26099147  0.19803962  0.25456012  0.13243898  0.2826747\n",
      "   1.          0.25624785 -0.12393369  0.22769881  0.2432002   0.21346077\n",
      "   0.49639557  0.19662663  0.21809863  0.22249296  0.21723146  0.18664438\n",
      "   0.215384    0.19598774  0.27414322  0.21923133  0.26542147  0.16181895\n",
      "   0.2286585   0.36821192]\n",
      " [ 0.7362914   0.82838119  0.7609274   0.80389914  0.86816833  0.68289101\n",
      "   0.25624785  1.          0.22015596  0.90667659  0.83824302  0.82981341\n",
      "   0.84447847  0.84218763  0.82949858  0.8332387   0.83001536  0.80026225\n",
      "   0.83185764  0.83839484  0.60210512  0.83314942  0.83034455  0.80608256\n",
      "   0.80746995  0.83889166]\n",
      " [ 0.48648992  0.46472334  0.47644009  0.37536987  0.53962546  0.35362926\n",
      "  -0.12393369  0.22015596  1.          0.40932871  0.44438496  0.44653008\n",
      "   0.35962877  0.47288913  0.44476124  0.43257822  0.44428549  0.4549949\n",
      "   0.44881504  0.47212661  0.51833049  0.45435086  0.45460494  0.60525053\n",
      "   0.49962868  0.42075704]\n",
      " [ 0.9445645   0.97046154  0.87062241  0.9719786   0.9719709   0.87873257\n",
      "   0.22769881  0.90667659  0.40932871  1.          0.9871856   0.98564832\n",
      "   0.95228936  0.986203    0.98526794  0.98622906  0.98545207  0.97089795\n",
      "   0.98564058  0.98681801  0.83634572  0.98568173  0.9838995   0.95829251\n",
      "   0.97667074  0.97743939]\n",
      " [ 0.976784    0.98587174  0.86587611  0.98819607  0.96427002  0.91088066\n",
      "   0.2432002   0.83824302  0.44438496  0.9871856   1.          0.99855992\n",
      "   0.95952707  0.99570504  0.99825849  0.99823423  0.99820997  0.99161922\n",
      "   0.99854429  0.99730002  0.88162746  0.99844524  0.99673559  0.96759436\n",
      "   0.9941969   0.99002273]\n",
      " [ 0.97697529  0.98297407  0.86467188  0.99008996  0.96721919  0.91124737\n",
      "   0.21346077  0.82981341  0.44653008  0.98564832  0.99855992  1.\n",
      "   0.95033773  0.99701672  0.99961764  0.99946272  0.99963367  0.99414111\n",
      "   0.9997638   0.99877062  0.88161473  0.99947174  0.99681791  0.9692303\n",
      "   0.99513173  0.98564958]\n",
      " [ 0.93435721  0.95473278  0.83785874  0.95451216  0.90365012  0.89988911\n",
      "   0.49639557  0.84447847  0.35962877  0.95228936  0.95952707  0.95033773\n",
      "   1.          0.94269328  0.95227486  0.95355553  0.95208359  0.9310181\n",
      "   0.95130825  0.94479576  0.86242526  0.95262758  0.96343667  0.91141934\n",
      "   0.95130951  0.988233  ]\n",
      " [ 0.96333863  0.98332356  0.85409608  0.97897863  0.97728422  0.89141502\n",
      "   0.19662663  0.84218763  0.47288913  0.986203    0.99570504  0.99701672\n",
      "   0.94269328  1.          0.99542369  0.9952718   0.99549483  0.99372739\n",
      "   0.99700562  0.99909566  0.8620896   0.99675966  0.99532192  0.9734366\n",
      "   0.99153767  0.97985016]\n",
      " [ 0.97899617  0.98276062  0.86893077  0.99149661  0.96580911  0.91556288\n",
      "   0.21809863  0.82949858  0.44476124  0.98526794  0.99825849  0.99961764\n",
      "   0.95227486  0.99542369  1.          0.99976125  0.99998496  0.99224342\n",
      "   0.99970197  0.99802337  0.88501084  0.99949023  0.99609435  0.96935847\n",
      "   0.99536233  0.98660056]\n",
      " [ 0.97681695  0.98261961  0.86375914  0.9923996   0.9642639   0.91647527\n",
      "   0.22249296  0.8332387   0.43257822  0.98622906  0.99823423  0.99946272\n",
      "   0.95355553  0.9952718   0.99976125  1.          0.99978866  0.99186162\n",
      "   0.99950502  0.99757271  0.88018586  0.9991449   0.99603369  0.96641107\n",
      "   0.99397522  0.9868459 ]\n",
      " [ 0.97873135  0.98270785  0.86865138  0.99153711  0.9659704   0.91566486\n",
      "   0.21723146  0.83001536  0.44428549  0.98545207  0.99820997  0.99963367\n",
      "   0.95208359  0.99549483  0.99998496  0.99978866  1.          0.99220674\n",
      "   0.99970335  0.99806704  0.88430843  0.99949003  0.99610486  0.96922506\n",
      "   0.99524238  0.98645415]\n",
      " [ 0.9711755   0.9742817   0.84766742  0.9777142   0.96533154  0.88957591\n",
      "   0.18664438  0.80026225  0.4549949   0.97089795  0.99161922  0.99414111\n",
      "   0.9310181   0.99372739  0.99224342  0.99186162  0.99220674  1.\n",
      "   0.99339051  0.9938817   0.88057932  0.9930201   0.98981091  0.96367857\n",
      "   0.98981944  0.97389309]\n",
      " [ 0.97660476  0.98432188  0.86469348  0.98957518  0.96804692  0.91246904\n",
      "   0.215384    0.83185764  0.44881504  0.98564058  0.99854429  0.9997638\n",
      "   0.95130825  0.99700562  0.99970197  0.99950502  0.99970335  0.99339051\n",
      "   1.          0.99891243  0.88184596  0.99976677  0.99660549  0.97068887\n",
      "   0.99540433  0.98618529]\n",
      " [ 0.97109998  0.98397362  0.86475078  0.9830282   0.97610078  0.89927203\n",
      "   0.19598774  0.83839484  0.47212661  0.98681801  0.99730002  0.99877062\n",
      "   0.94479576  0.99909566  0.99802337  0.99757271  0.99806704  0.9938817\n",
      "   0.99891243  1.          0.87446743  0.99888487  0.9956294   0.97582443\n",
      "   0.99468432  0.98227777]\n",
      " [ 0.94340324  0.8760754   0.81852993  0.87921951  0.83994378  0.86869421\n",
      "   0.27414322  0.60210512  0.51833049  0.83634572  0.88162746  0.88161473\n",
      "   0.86242526  0.8620896   0.88501084  0.88018586  0.88430843  0.88057932\n",
      "   0.88184596  0.87446743  1.          0.88531218  0.88245475  0.88308349\n",
      "   0.91765471  0.89451335]\n",
      " [ 0.97735601  0.98499475  0.86709182  0.98836646  0.96950725  0.9111085\n",
      "   0.21923133  0.83314942  0.45435086  0.98568173  0.99844524  0.99947174\n",
      "   0.95262758  0.99675966  0.99949023  0.9991449   0.99949003  0.9930201\n",
      "   0.99976677  0.99888487  0.88531218  1.          0.9964423   0.97269541\n",
      "   0.9961684   0.98708713]\n",
      " [ 0.97317211  0.98443162  0.85802508  0.98787483  0.96336734  0.91118205\n",
      "   0.26542147  0.83034455  0.45460494  0.9838995   0.99673559  0.99681791\n",
      "   0.96343667  0.99532192  0.99609435  0.99603369  0.99610486  0.98981091\n",
      "   0.99660549  0.9956294   0.88245475  0.9964423   1.          0.9660368\n",
      "   0.99408534  0.99125682]\n",
      " [ 0.95089582  0.95995319  0.88550294  0.93887566  0.97614097  0.85591856\n",
      "   0.16181895  0.80608256  0.60525053  0.95829251  0.96759436  0.9692303\n",
      "   0.91141934  0.9734366   0.96935847  0.96641107  0.96922506  0.96367857\n",
      "   0.97068887  0.97582443  0.88308349  0.97269541  0.9660368   1.\n",
      "   0.98012478  0.95428814]\n",
      " [ 0.98516922  0.98277326  0.87592041  0.98227368  0.96830318  0.91242899\n",
      "   0.2286585   0.80746995  0.49962868  0.97667074  0.9941969   0.99513173\n",
      "   0.95130951  0.99153767  0.99536233  0.99397522  0.99524238  0.98981944\n",
      "   0.99540433  0.99468432  0.91765471  0.9961684   0.99408534  0.98012478\n",
      "   1.          0.98660611]\n",
      " [ 0.97072221  0.98053752  0.86454401  0.98179662  0.94621571  0.91627159\n",
      "   0.36821192  0.83889166  0.42075704  0.97743939  0.99002273  0.98564958\n",
      "   0.988233    0.97985016  0.98660056  0.9868459   0.98645415  0.97389309\n",
      "   0.98618529  0.98227777  0.89451335  0.98708713  0.99125682  0.95428814\n",
      "   0.98660611  1.        ]]\n"
     ]
    }
   ],
   "source": [
    "#r_rural=(pearsonr_matrix(cpis_rural)+stats.spearmanr(cpis_rural, axis=0)[0]+kendalltau_matrix(cpis_rural))/3\n",
    "#r_urban=(pearsonr_matrix(cpis_urban)+stats.spearmanr(cpis_urban, axis=0)[0]+kendalltau_matrix(cpis_urban))/3\n",
    "r_rural=pearsonr_matrix(cpis_rural)\n",
    "r_urban=pearsonr_matrix(cpis_urban)\n",
    "r_total=pearsonr_matrix(cpis_total)\n",
    "print np.shape(r_rural)\n",
    "r_gi=r_total[-1, :]\n",
    "print r_total"
   ]
  },
  {
   "cell_type": "code",
   "execution_count": 7,
   "metadata": {
    "scrolled": true
   },
   "outputs": [],
   "source": [
    "#print r_gi\n",
    "rl=np.concatenate([[labels], [r_gi]]).T\n",
    "rl=np.flip(rl[rl[:, 1].argsort()], 0)\n",
    "#print rl\n",
    "#for i in range(l):\n",
    "#    print '%d & %s & %.4f\\\\' %(i, rl[i, 0], rl[i, 1])\n",
    "#    print '\\hline'"
   ]
  },
  {
   "cell_type": "code",
   "execution_count": 8,
   "metadata": {},
   "outputs": [
    {
     "name": "stdout",
     "output_type": "stream",
     "text": [
      "1\n",
      "256\n",
      "186\n",
      "160\n",
      "68\n",
      "16\n",
      "['Vegetables' 'Sugar and Confectionery']\n",
      "[['Prepared meals, snacks, sweets etc.' 'Clothing']\n",
      " ['Prepared meals, snacks, sweets etc.' 'Footwear']\n",
      " ['Prepared meals, snacks, sweets etc.' 'Clothing and footwear']\n",
      " ['Prepared meals, snacks, sweets etc.' 'Household goods and services']\n",
      " ['Prepared meals, snacks, sweets etc.' 'Recreation and amusement']\n",
      " ['Pan, tobacco and intoxicants' 'Health']\n",
      " ['Clothing' 'Footwear']\n",
      " ['Clothing' 'Clothing and footwear']\n",
      " ['Clothing' 'Household goods and services']\n",
      " ['Clothing' 'Recreation and amusement']\n",
      " ['Footwear' 'Clothing and footwear']\n",
      " ['Footwear' 'Household goods and services']\n",
      " ['Footwear' 'Recreation and amusement']\n",
      " ['Clothing and footwear' 'Household goods and services']\n",
      " ['Clothing and footwear' 'Recreation and amusement']\n",
      " ['Household goods and services' 'Recreation and amusement']]\n"
     ]
    }
   ],
   "source": [
    "neg_corr_total_labels=np.empty(0)\n",
    "weak_corr_total_labels=np.empty(0)\n",
    "strong1_corr_total_labels=np.empty(0)\n",
    "strong2_corr_total_labels=np.empty(0)\n",
    "strong3_corr_total_labels=np.empty(0)\n",
    "strong4_corr_total_labels=np.empty(0)\n",
    "rz=np.empty(0)\n",
    "l=np.size(r_total, 0)    #No. of features\n",
    "for i in range(l-1):\n",
    "    for j in range(i+1, l-1):\n",
    "        if r_total[i, j]<0:\n",
    "            neg_corr_total_labels=np.append(neg_corr_total_labels, [labels[i], labels[j]])\n",
    "        if r_total[i, j]>=0.5:\n",
    "            weak_corr_total_labels=np.append(weak_corr_total_labels, [labels[i], labels[j]])\n",
    "        if r_total[i, j]>=0.9:\n",
    "            strong1_corr_total_labels=np.append(strong1_corr_total_labels, [labels[i], labels[j]])\n",
    "        if r_total[i, j]>=0.95:\n",
    "            strong2_corr_total_labels=np.append(strong2_corr_total_labels, [labels[i], labels[j]])\n",
    "        if r_total[i, j]>=0.99:\n",
    "            strong3_corr_total_labels=np.append(strong3_corr_total_labels, [labels[i], labels[j]])\n",
    "        if r_total[i, j]>=0.999:\n",
    "            strong4_corr_total_labels=np.append(strong4_corr_total_labels, [labels[i], labels[j]])\n",
    "#strong_corr_rural_labels=np.reshape(strong_corr_rural_labels, [-1, 2])\n",
    "#print 'The goods and services in the market basket for which the CPIs in the rural sector are strongly correlated are', strong_corr_rural_labels\n",
    "#np.savetxt('uncorrelated_rural.txt', uncorr_rural_labels, fmt='%28s', delimiter='\\t\\t')\n",
    "#strong_corr_urban_labels=np.reshape(strong_corr_urban_labels, [-1, 2])\n",
    "#np.savetxt('uncorrelated_urban.txt', uncorr_urban_labels, fmt='%28s', delimiter='\\t\\t')\n",
    "#print 'The goods and services in the market basket for which the CPIs in the urban sector are strongly correlated are', strong_corr_urban_labels\n",
    "#strong_corr_total_labels=np.reshape(strong_corr_total_labels, [-1, 2])\n",
    "#np.savetxt('uncorrelated_total.txt', uncorr_total_labels, fmt='%28s', delimiter='\\t\\t')\n",
    "#print 'The goods and services in the market basket for which the total CPIs (rural+urban) are strongly correlated are', strong_corr_total_labels\n",
    "print np.size(neg_corr_total_labels)/2\n",
    "print np.size(weak_corr_total_labels)/2\n",
    "print np.size(strong1_corr_total_labels)/2\n",
    "print np.size(strong2_corr_total_labels)/2\n",
    "print np.size(strong3_corr_total_labels)/2\n",
    "print np.size(strong4_corr_total_labels)/2\n",
    "print neg_corr_total_labels\n",
    "print strong4_corr_total_labels.reshape([-1, 2])"
   ]
  },
  {
   "cell_type": "code",
   "execution_count": 9,
   "metadata": {
    "scrolled": true
   },
   "outputs": [
    {
     "name": "stdout",
     "output_type": "stream",
     "text": [
      "[[ True  True False  True False False False False False False  True  True\n",
      "  False  True  True  True  True  True  True  True False  True  True  True\n",
      "   True  True]\n",
      " [ True  True False  True False False False False False  True  True  True\n",
      "   True  True  True  True  True  True  True  True False  True  True  True\n",
      "   True  True]\n",
      " [False False  True False False False False False False False False False\n",
      "  False False False False False False False False False False False False\n",
      "  False False]\n",
      " [ True  True False  True False False False False False  True  True  True\n",
      "   True  True  True  True  True  True  True  True False  True  True False\n",
      "   True  True]\n",
      " [False False False False  True False False False False  True  True  True\n",
      "  False  True  True  True  True  True  True  True False  True  True  True\n",
      "   True False]\n",
      " [False False False False False  True False False False False False False\n",
      "  False False False False False False False False False False False False\n",
      "  False False]\n",
      " [False False False False False False  True False False False False False\n",
      "  False False False False False False False False False False False False\n",
      "  False False]\n",
      " [False False False False False False False  True False False False False\n",
      "  False False False False False False False False False False False False\n",
      "  False False]\n",
      " [False False False False False False False False  True False False False\n",
      "  False False False False False False False False False False False False\n",
      "  False False]\n",
      " [False  True False  True  True False False False False  True  True  True\n",
      "   True  True  True  True  True  True  True  True False  True  True  True\n",
      "   True  True]\n",
      " [ True  True False  True  True False False False False  True  True  True\n",
      "   True  True  True  True  True  True  True  True False  True  True  True\n",
      "   True  True]\n",
      " [ True  True False  True  True False False False False  True  True  True\n",
      "   True  True  True  True  True  True  True  True False  True  True  True\n",
      "   True  True]\n",
      " [False  True False  True False False False False False  True  True  True\n",
      "   True False  True  True  True False  True False False  True  True False\n",
      "   True  True]\n",
      " [ True  True False  True  True False False False False  True  True  True\n",
      "  False  True  True  True  True  True  True  True False  True  True  True\n",
      "   True  True]\n",
      " [ True  True False  True  True False False False False  True  True  True\n",
      "   True  True  True  True  True  True  True  True False  True  True  True\n",
      "   True  True]\n",
      " [ True  True False  True  True False False False False  True  True  True\n",
      "   True  True  True  True  True  True  True  True False  True  True  True\n",
      "   True  True]\n",
      " [ True  True False  True  True False False False False  True  True  True\n",
      "   True  True  True  True  True  True  True  True False  True  True  True\n",
      "   True  True]\n",
      " [ True  True False  True  True False False False False  True  True  True\n",
      "  False  True  True  True  True  True  True  True False  True  True  True\n",
      "   True  True]\n",
      " [ True  True False  True  True False False False False  True  True  True\n",
      "   True  True  True  True  True  True  True  True False  True  True  True\n",
      "   True  True]\n",
      " [ True  True False  True  True False False False False  True  True  True\n",
      "  False  True  True  True  True  True  True  True False  True  True  True\n",
      "   True  True]\n",
      " [False False False False False False False False False False False False\n",
      "  False False False False False False False False  True False False False\n",
      "  False False]\n",
      " [ True  True False  True  True False False False False  True  True  True\n",
      "   True  True  True  True  True  True  True  True False  True  True  True\n",
      "   True  True]\n",
      " [ True  True False  True  True False False False False  True  True  True\n",
      "   True  True  True  True  True  True  True  True False  True  True  True\n",
      "   True  True]\n",
      " [ True  True False False  True False False False False  True  True  True\n",
      "  False  True  True  True  True  True  True  True False  True  True  True\n",
      "   True  True]\n",
      " [ True  True False  True  True False False False False  True  True  True\n",
      "   True  True  True  True  True  True  True  True False  True  True  True\n",
      "   True  True]\n",
      " [ True  True False  True False False False False False  True  True  True\n",
      "   True  True  True  True  True  True  True  True False  True  True  True\n",
      "   True  True]]\n",
      "[['Milk and products' 'Prepared meals, snacks, sweets etc.']\n",
      " ['Milk and products' 'Clothing']\n",
      " ['Milk and products' 'Footwear']\n",
      " ['Milk and products' 'Clothing and footwear']\n",
      " ['Non-alcoholic beverages' 'Prepared meals, snacks, sweets etc.']\n",
      " ['Non-alcoholic beverages' 'Pan, tobacco and intoxicants']\n",
      " ['Non-alcoholic beverages' 'Clothing']\n",
      " ['Non-alcoholic beverages' 'Footwear']\n",
      " ['Non-alcoholic beverages' 'Clothing and footwear']\n",
      " ['Non-alcoholic beverages' 'Fuel and light']\n",
      " ['Non-alcoholic beverages' 'Household goods and services']\n",
      " ['Non-alcoholic beverages' 'Health']\n",
      " ['Non-alcoholic beverages' 'Recreation and amusement']\n",
      " ['Non-alcoholic beverages' 'Education']\n",
      " ['Non-alcoholic beverages' 'Miscellaneous']\n",
      " ['Prepared meals, snacks, sweets etc.' 'Pan, tobacco and intoxicants']\n",
      " ['Prepared meals, snacks, sweets etc.' 'Clothing']\n",
      " ['Prepared meals, snacks, sweets etc.' 'Footwear']\n",
      " ['Prepared meals, snacks, sweets etc.' 'Clothing and footwear']\n",
      " ['Prepared meals, snacks, sweets etc.' 'Fuel and light']\n",
      " ['Prepared meals, snacks, sweets etc.' 'Household goods and services']\n",
      " ['Prepared meals, snacks, sweets etc.' 'Health']\n",
      " ['Prepared meals, snacks, sweets etc.' 'Recreation and amusement']\n",
      " ['Prepared meals, snacks, sweets etc.' 'Education']\n",
      " ['Prepared meals, snacks, sweets etc.' 'Miscellaneous']\n",
      " ['Pan, tobacco and intoxicants' 'Clothing']\n",
      " ['Pan, tobacco and intoxicants' 'Footwear']\n",
      " ['Pan, tobacco and intoxicants' 'Clothing and footwear']\n",
      " ['Pan, tobacco and intoxicants' 'Fuel and light']\n",
      " ['Pan, tobacco and intoxicants' 'Household goods and services']\n",
      " ['Pan, tobacco and intoxicants' 'Health']\n",
      " ['Pan, tobacco and intoxicants' 'Recreation and amusement']\n",
      " ['Pan, tobacco and intoxicants' 'Education']\n",
      " ['Pan, tobacco and intoxicants' 'Miscellaneous']\n",
      " ['Clothing' 'Footwear']\n",
      " ['Clothing' 'Clothing and footwear']\n",
      " ['Clothing' 'Fuel and light']\n",
      " ['Clothing' 'Household goods and services']\n",
      " ['Clothing' 'Health']\n",
      " ['Clothing' 'Recreation and amusement']\n",
      " ['Clothing' 'Education']\n",
      " ['Clothing' 'Miscellaneous']\n",
      " ['Footwear' 'Clothing and footwear']\n",
      " ['Footwear' 'Fuel and light']\n",
      " ['Footwear' 'Household goods and services']\n",
      " ['Footwear' 'Health']\n",
      " ['Footwear' 'Recreation and amusement']\n",
      " ['Footwear' 'Education']\n",
      " ['Footwear' 'Miscellaneous']\n",
      " ['Clothing and footwear' 'Fuel and light']\n",
      " ['Clothing and footwear' 'Household goods and services']\n",
      " ['Clothing and footwear' 'Health']\n",
      " ['Clothing and footwear' 'Recreation and amusement']\n",
      " ['Clothing and footwear' 'Education']\n",
      " ['Clothing and footwear' 'Miscellaneous']\n",
      " ['Fuel and light' 'Household goods and services']\n",
      " ['Fuel and light' 'Health']\n",
      " ['Fuel and light' 'Recreation and amusement']\n",
      " ['Household goods and services' 'Health']\n",
      " ['Household goods and services' 'Recreation and amusement']\n",
      " ['Household goods and services' 'Education']\n",
      " ['Household goods and services' 'Miscellaneous']\n",
      " ['Health' 'Recreation and amusement']\n",
      " ['Health' 'Education']\n",
      " ['Health' 'Miscellaneous']\n",
      " ['Recreation and amusement' 'Education']\n",
      " ['Recreation and amusement' 'Miscellaneous']\n",
      " ['Education' 'Miscellaneous']]\n"
     ]
    }
   ],
   "source": [
    "#print np.size(strong_corr_rural_labels)\n",
    "#print np.size(strong_corr_urban_labels)\n",
    "#print np.size(strong_corr_total_labels)\n",
    "print r_total>=0.95\n",
    "print np.reshape(strong3_corr_total_labels, [-1, 2])"
   ]
  },
  {
   "cell_type": "markdown",
   "metadata": {},
   "source": [
    "1. Milk and products, Prepared meals, snacks, sweets etc., Clothing, Footwear, Clothing and footwear\n",
    "2. Non-alcoholic beverages, Prepared meals, snacks, sweets etc., Clothing, Footwear, Clothing and footwear, Pan, tobacco and intoxicants, Fuel and light, Household goods and services, Health, Recreation and amusement\n",
    " ['Non-alcoholic beverages' 'Education']\n",
    " ['Non-alcoholic beverages' 'Miscellaneous']\n",
    " ['Non-alcoholic beverages' 'General index']\n",
    " ['Prepared meals, snacks, sweets etc.' 'Education']\n",
    " ['Prepared meals, snacks, sweets etc.' 'Miscellaneous']\n",
    " ['Pan, tobacco and intoxicants' 'Education']\n",
    " ['Pan, tobacco and intoxicants' 'Miscellaneous']\n",
    " ['Clothing' 'Education']\n",
    " ['Clothing' 'Miscellaneous']\n",
    " ['Footwear' 'Clothing and footwear']\n",
    " ['Footwear' 'Education']\n",
    " ['Footwear' 'Miscellaneous']\n",
    " ['Clothing and footwear' 'Education']\n",
    " ['Clothing and footwear' 'Miscellaneous']\n",
    " ['Household goods and services' 'Recreation and amusement']\n",
    " ['Household goods and services' 'Education']\n",
    " ['Household goods and services' 'Miscellaneous']\n",
    " ['Health' 'Education']\n",
    " ['Health' 'Miscellaneous']\n",
    " ['Recreation and amusement' 'Education']\n",
    " ['Recreation and amusement' 'Miscellaneous']\n",
    " ['Education' 'Miscellaneous']\n",
    " ['Education' 'General index']]\n"
   ]
  },
  {
   "cell_type": "code",
   "execution_count": 10,
   "metadata": {},
   "outputs": [],
   "source": [
    "#def combine_clusters(x):\n",
    "    "
   ]
  },
  {
   "cell_type": "code",
   "execution_count": 11,
   "metadata": {},
   "outputs": [
    {
     "name": "stdout",
     "output_type": "stream",
     "text": [
      "[['Prepared meals, snacks, sweets etc.' 'Clothing']\n",
      " ['Prepared meals, snacks, sweets etc.' 'Footwear']\n",
      " ['Prepared meals, snacks, sweets etc.' 'Clothing and footwear']\n",
      " ['Prepared meals, snacks, sweets etc.' 'Household goods and services']\n",
      " ['Prepared meals, snacks, sweets etc.' 'Recreation and amusement']\n",
      " ['Pan, tobacco and intoxicants' 'Health']\n",
      " ['Clothing' 'Footwear']\n",
      " ['Clothing' 'Clothing and footwear']\n",
      " ['Clothing' 'Household goods and services']\n",
      " ['Clothing' 'Recreation and amusement']\n",
      " ['Footwear' 'Clothing and footwear']\n",
      " ['Footwear' 'Household goods and services']\n",
      " ['Footwear' 'Recreation and amusement']\n",
      " ['Clothing and footwear' 'Household goods and services']\n",
      " ['Clothing and footwear' 'Recreation and amusement']\n",
      " ['Household goods and services' 'Recreation and amusement']]\n"
     ]
    }
   ],
   "source": [
    "#print np.size(strong_corr_rural_labels)\n",
    "#print np.size(strong_corr_urban_labels)\n",
    "#print np.size(strong_corr_total_labels)\n",
    "print np.reshape(strong4_corr_total_labels, [-1, 2])"
   ]
  },
  {
   "cell_type": "markdown",
   "metadata": {},
   "source": [
    "Observations:\n",
    "1. Pan, tobacco and intoxicants and Household goods and services are very highly correlated.\n",
    "2. Prepared meals, snacks, sweets etc., Clothing, Footwear, Fuel and light and Recreation and amusement are mutually very highly correlated."
   ]
  },
  {
   "cell_type": "code",
   "execution_count": 12,
   "metadata": {},
   "outputs": [
    {
     "name": "stdout",
     "output_type": "stream",
     "text": [
      "[0.97072221 0.98053752 0.86454401 0.98179662 0.94621571 0.91627159\n",
      " 0.36821192 0.83889166 0.42075704 0.97743939 0.99002273 0.98564958\n",
      " 0.988233   0.97985016 0.98660056 0.9868459  0.98645415 0.97389309\n",
      " 0.98618529 0.98227777 0.89451335 0.98708713 0.99125682 0.95428814\n",
      " 0.98660611 1.        ]\n"
     ]
    }
   ],
   "source": [
    "print r_gi"
   ]
  },
  {
   "cell_type": "code",
   "execution_count": 13,
   "metadata": {
    "scrolled": true
   },
   "outputs": [
    {
     "data": {
      "text/plain": [
       "[<matplotlib.lines.Line2D at 0x7f7a3a349410>]"
      ]
     },
     "execution_count": 13,
     "metadata": {},
     "output_type": "execute_result"
    },
    {
     "data": {
      "image/png": "[encoded data removed]",
      "text/plain": [
       "<matplotlib.figure.Figure at 0x7f7a3c6a0f90>"
      ]
     },
     "metadata": {},
     "output_type": "display_data"
    }
   ],
   "source": [
    "plt.plot(np.linspace(2013+1.0/12, 2017+7.0/12, 55), gi_total)"
   ]
  },
  {
   "cell_type": "code",
   "execution_count": 14,
   "metadata": {},
   "outputs": [
    {
     "name": "stdout",
     "output_type": "stream",
     "text": [
      "[104.6 105.3 105.5 106.1 106.9 109.3 111.0 112.4 113.7 114.8 116.3 114.5\n",
      " 113.6 113.6 114.2 115.1 115.8 116.7 119.2 120.3 120.1 120.1 120.1 119.4\n",
      " 119.5 119.7 120.2 120.7 121.6 123.0 123.6 124.8 125.4 126.1 126.6 126.1\n",
      " 126.3 126.0 126.0 127.3 128.6 130.1 131.1 131.1 130.9 131.4 131.2 130.4\n",
      " 130.3 130.6 130.9 131.1 131.4 132.0 134.2]\n"
     ]
    }
   ],
   "source": [
    "print gi_total"
   ]
  },
  {
   "cell_type": "code",
   "execution_count": 15,
   "metadata": {},
   "outputs": [
    {
     "name": "stdout",
     "output_type": "stream",
     "text": [
      "[33.6 45.7 29.6 38.5 18.1 41.8 59.5 33.6 20.5 35.2 28.5 45.8 39.  48.2\n",
      " 39.3 32.1 38.3 29.4 31.9 29.4 16.  26.6 36.8 23.6 25.9 34.2]\n",
      "Silhouette scores for different ks\n",
      "k = 2 Score: 0.5159428004400415\n",
      "k = 3 Score: 0.5129100097977527\n",
      "k = 4 Score: 0.5123335905158248\n",
      "k = 5 Score: 0.5115045274643144\n",
      "k = 6 Score: 0.5814634135299823\n",
      "k = 7 Score: 0.600505293779851\n",
      "k = 8 Score: 0.5662488032142975\n",
      "k = 9 Score: 0.5149059443207752\n",
      "k = 10 Score: 0.5244747885585526\n",
      "k = 11 Score: 0.5477321453230755\n",
      "k = 12 Score: 0.5456928825025394\n",
      "k = 13 Score: 0.5494359249675376\n",
      "k = 14 Score: 0.5241154121470247\n",
      "k = 15 Score: 0.5002223762420306\n",
      "k = 16 Score: 0.47769235528084064\n",
      "k = 17 Score: 0.47181900289163975\n",
      "k = 18 Score: 0.4207716520731192\n",
      "k = 19 Score: 0.418730491479323\n",
      "k = 20 Score: 0.3683691635162138\n",
      "k = 21 Score: 0.345447640594684\n",
      "k = 22 Score: 0.29489819004521883\n",
      "k = 23 Score: 0.2276282051281709\n",
      "k = 24 Score: 0.15384615384615385\n",
      "k = 25 Score: 0.15384615384615385\n",
      "Maximum Silhouette score is 0.600505293779851 and it is obtained for 7 clusters\n",
      "[5 3 6 0 4 0 2 5 4 5 6 3 0 3 0 5 0 6 5 6 4 1 0 1 1 5]\n"
     ]
    }
   ],
   "source": [
    "inflation_cpis_total=np.round((cpis_total[-1, :]-100).astype(np.double), 1).reshape(-1, 1)\n",
    "print np.ndarray.flatten(inflation_cpis_total)\n",
    "print 'Silhouette scores for different ks'\n",
    "silhouette_avg=np.empty(24)\n",
    "inflation_silhouette_score_max=0\n",
    "for k in np.arange(2, 26):\n",
    "    kmeans=KMeans(n_clusters=k, random_state=0).fit(inflation_cpis_total)\n",
    "    kmeans_labels=kmeans.labels_\n",
    "    silhouette_avg[k-2]=silhouette_score(inflation_cpis_total, kmeans_labels)\n",
    "    print 'k =', k, 'Score:', silhouette_avg[k-2]\n",
    "    if silhouette_avg[k-2]>inflation_silhouette_score_max:\n",
    "        n_clusters_inflation_silhouette_score_max=k\n",
    "        kmeans_inflation_labels=kmeans_labels\n",
    "        inflation_silhouette_score_max=silhouette_avg[k-2]\n",
    "print 'Maximum Silhouette score is', inflation_silhouette_score_max, 'and it is obtained for', n_clusters_inflation_silhouette_score_max, 'clusters'\n",
    "print kmeans_inflation_labels"
   ]
  },
  {
   "cell_type": "code",
   "execution_count": 16,
   "metadata": {},
   "outputs": [
    {
     "name": "stdout",
     "output_type": "stream",
     "text": [
      "[0.5159428  0.51291001 0.51233359 0.51150453 0.58146341 0.60050529\n",
      " 0.5662488  0.51490594 0.52447479 0.54773215 0.54569288 0.54943592\n",
      " 0.52411541 0.50022238 0.47769236 0.471819   0.42077165 0.41873049\n",
      " 0.36836916 0.34544764 0.29489819 0.22762821 0.15384615 0.15384615]\n"
     ]
    },
    {
     "data": {
      "image/png": "[encoded data removed]",
      "text/plain": [
       "<matplotlib.figure.Figure at 0x7f7a3a2be5d0>"
      ]
     },
     "metadata": {},
     "output_type": "display_data"
    }
   ],
   "source": [
    "print silhouette_avg\n",
    "plt.plot(np.arange(2, 26), silhouette_avg)\n",
    "plt.xlabel('Number of clusters (k)')\n",
    "plt.ylabel('Silhouette score')\n",
    "#plt.title('Variation of Silhouette score of the gradients of CPIs with the number of clusters')\n",
    "plt.show()"
   ]
  },
  {
   "cell_type": "code",
   "execution_count": 17,
   "metadata": {},
   "outputs": [
    {
     "name": "stdout",
     "output_type": "stream",
     "text": [
      "Cluster 1:\n",
      "['Milk and products' 'Fruits' 'Food and beverages' 'Clothing'\n",
      " 'Clothing and footwear' 'Education']\n",
      "Cluster 2:\n",
      "['Recreation and amusement' 'Personal care and effects' 'Miscellaneous']\n",
      "Cluster 3:\n",
      "['Vegetables']\n",
      "Cluster 4:\n",
      "['Meat and fish' 'Prepared meals, snacks, sweets etc.'\n",
      " 'Pan, tobacco and intoxicants']\n",
      "Cluster 5:\n",
      "['Oils and fats' 'Sugar and Confectionery' 'Transport and communication']\n",
      "Cluster 6:\n",
      "['Cereals and products' 'Pulses and products' 'Spices' 'Footwear'\n",
      " 'Household goods and services' 'General index']\n",
      "Cluster 7:\n",
      "['Egg' 'Non-alcoholic beverages' 'Fuel and light' 'Health']\n",
      "[['Food and beverages' 39.0 0]\n",
      " ['Clothing' 39.3 0]\n",
      " ['Education' 36.8 0]\n",
      " ['Fruits' 41.8 0]\n",
      " ['Clothing and footwear' 38.3 0]\n",
      " ['Milk and products' 38.5 0]\n",
      " ['Personal care and effects' 23.6 1]\n",
      " ['Recreation and amusement' 26.6 1]\n",
      " ['Miscellaneous' 25.9 1]\n",
      " ['Vegetables' 59.5 2]\n",
      " ['Prepared meals, snacks, sweets etc.' 45.8 3]\n",
      " ['Pan, tobacco and intoxicants' 48.2 3]\n",
      " ['Meat and fish' 45.7 3]\n",
      " ['Transport and communication' 16.0 4]\n",
      " ['Oils and fats' 18.1 4]\n",
      " ['Sugar and Confectionery' 20.5 4]\n",
      " ['Household goods and services' 31.9 5]\n",
      " ['Cereals and products' 33.6 5]\n",
      " ['Footwear' 32.1 5]\n",
      " ['Spices' 35.2 5]\n",
      " ['Pulses and products' 33.6 5]\n",
      " ['General index' 34.2 5]\n",
      " ['Health' 29.4 6]\n",
      " ['Non-alcoholic beverages' 28.5 6]\n",
      " ['Egg' 29.6 6]\n",
      " ['Fuel and light' 29.4 6]]\n"
     ]
    }
   ],
   "source": [
    "#kmeans_inflation.cluster_centers_\n",
    "ind_inflation_labels_C0=np.where(kmeans_inflation_labels==0)\n",
    "ind_inflation_labels_C1=np.where(kmeans_inflation_labels==1)\n",
    "ind_inflation_labels_C2=np.where(kmeans_inflation_labels==2)\n",
    "ind_inflation_labels_C3=np.where(kmeans_inflation_labels==3)\n",
    "ind_inflation_labels_C4=np.where(kmeans_inflation_labels==4)\n",
    "ind_inflation_labels_C5=np.where(kmeans_inflation_labels==5)\n",
    "ind_inflation_labels_C6=np.where(kmeans_inflation_labels==6)\n",
    "print 'Cluster 1:'\n",
    "print labels[ind_inflation_labels_C0]\n",
    "print 'Cluster 2:'\n",
    "print labels[ind_inflation_labels_C1]\n",
    "print 'Cluster 3:'\n",
    "print labels[ind_inflation_labels_C2]\n",
    "print 'Cluster 4:'\n",
    "print labels[ind_inflation_labels_C3]\n",
    "print 'Cluster 5:'\n",
    "print labels[ind_inflation_labels_C4]\n",
    "print 'Cluster 6:'\n",
    "print labels[ind_inflation_labels_C5]\n",
    "print 'Cluster 7:'\n",
    "print labels[ind_inflation_labels_C6]\n",
    "\n",
    "temp=np.concatenate([[labels], [np.ndarray.flatten(inflation_cpis_total)], [kmeans_inflation_labels]]).T\n",
    "temp=temp[temp[:, 2].argsort()]\n",
    "print temp\n",
    "\n",
    "inflation_cpis_total_C0=inflation_cpis_total[ind_inflation_labels_C0]\n",
    "inflation_cpis_total_C1=inflation_cpis_total[ind_inflation_labels_C1]\n",
    "inflation_cpis_total_C2=inflation_cpis_total[ind_inflation_labels_C2]\n",
    "inflation_cpis_total_C3=inflation_cpis_total[ind_inflation_labels_C3]\n",
    "inflation_cpis_total_C4=inflation_cpis_total[ind_inflation_labels_C4]\n",
    "inflation_cpis_total_C5=inflation_cpis_total[ind_inflation_labels_C5]\n",
    "inflation_cpis_total_C6=inflation_cpis_total[ind_inflation_labels_C6]"
   ]
  },
  {
   "cell_type": "code",
   "execution_count": 18,
   "metadata": {
    "scrolled": true
   },
   "outputs": [
    {
     "data": {
      "image/png": "[encoded data removed]",
      "text/plain": [
       "<matplotlib.figure.Figure at 0x7f7a3a219a90>"
      ]
     },
     "metadata": {},
     "output_type": "display_data"
    }
   ],
   "source": [
    "plt.scatter(inflation_cpis_total_C0, np.zeros(np.size(ind_inflation_labels_C0)))\n",
    "plt.scatter(inflation_cpis_total_C1, np.zeros(np.size(ind_inflation_labels_C1)))\n",
    "plt.scatter(inflation_cpis_total_C2, np.zeros(np.size(ind_inflation_labels_C2)))\n",
    "plt.scatter(inflation_cpis_total_C3, np.zeros(np.size(ind_inflation_labels_C3)))\n",
    "plt.scatter(inflation_cpis_total_C4, np.zeros(np.size(ind_inflation_labels_C4)))\n",
    "plt.scatter(inflation_cpis_total_C5, np.zeros(np.size(ind_inflation_labels_C5)))\n",
    "plt.scatter(inflation_cpis_total_C6, np.zeros(np.size(ind_inflation_labels_C6)))\n",
    "plt.legend(['Cluster 1', 'Cluster 2', 'Cluster 3', 'Cluster 4', 'Cluster 5', 'Cluster 6', 'Cluster 7'])\n",
    "plt.xlabel('CPI inflation (%)')\n",
    "plt.ylim([0.005, -0.015])\n",
    "plt.yticks([])\n",
    "plt.show()"
   ]
  },
  {
   "cell_type": "code",
   "execution_count": 19,
   "metadata": {},
   "outputs": [
    {
     "name": "stdout",
     "output_type": "stream",
     "text": [
      "[-3.59090909e-02 -8.13636364e-02 -4.50000000e-02 -3.18181818e-03\n",
      " -1.45454545e-02  5.18181818e-02  5.33181818e-01 -3.50000000e-02\n",
      "  4.04545455e-02 -4.54545455e-04  4.54545455e-03 -1.36363636e-03\n",
      "  5.81818182e-02  2.77272727e-02  5.45454545e-03 -1.36363636e-03\n",
      "  5.45454545e-03  5.45454545e-03  7.27272727e-03  1.04545455e-02\n",
      " -2.90909091e-02  4.09090909e-03  2.27272727e-02  1.81818182e-03\n",
      " -1.81818182e-03  3.22727273e-02]\n"
     ]
    },
    {
     "data": {
      "text/plain": [
       "\"kmeans_grad2=KMeans(n_clusters=5, random_state=0).fit(grad2_cpis_total)\\nkmeans_grad2_labels=kmeans_grad2.labels_\\nprint kmeans_grad2_labels\\nprint kmeans_grad2.cluster_centers_\\nplt.scatter(kmeans_grad2_cpis_total, np.zeros(l-1))\\ngrad2_cpis_total_C0=grad2_cpis_total[np.where(kmeans_grad2_labels==0)]\\ngrad2_cpis_total_C1=grad2_cpis_total[np.where(kmeans_grad2_labels==1)]\\ngrad2_cpis_total_C2=grad2_cpis_total[np.where(kmeans_grad2_labels==2)]\\ngrad2_cpis_total_C3=grad2_cpis_total[np.where(kmeans_grad2_labels==3)]\\ngrad2_cpis_total_C4=grad2_cpis_total[np.where(kmeans_grad2_labels==4)]\\n#colors=['C0', 'C1', 'C2', 'C3', 'C4', 'C5', 'C6', 'C7', 'C8', 'C9']\\nplt.figure(0)\\nplt.scatter(grad2_cpis_total_C0, np.zeros(np.size(grad2_cpis_total_C0)))\\nplt.scatter(grad2_cpis_total_C1, np.zeros(np.size(grad2_cpis_total_C1)))\\nplt.scatter(grad2_cpis_total_C2, np.zeros(np.size(grad2_cpis_total_C2)))\\nplt.scatter(grad2_cpis_total_C3, np.zeros(np.size(grad2_cpis_total_C3)))\\nplt.scatter(grad2_cpis_total_C4, np.zeros(np.size(grad2_cpis_total_C4)))\\n\\nplt.show()\""
      ]
     },
     "execution_count": 19,
     "metadata": {},
     "output_type": "execute_result"
    },
    {
     "data": {
      "image/png": "[encoded data removed]",
      "text/plain": [
       "<matplotlib.figure.Figure at 0x7f7a3a2d61d0>"
      ]
     },
     "metadata": {},
     "output_type": "display_data"
    }
   ],
   "source": [
    "#kmeans_grad2=KMeans??\n",
    "#Double grad2ient\n",
    "grad2_cpis_total=np.mean(np.gradient(np.gradient(cpis_total)[0])[0], 0).reshape(-1, 1)\n",
    "print np.ndarray.flatten(grad2_cpis_total)\n",
    "plt.scatter(grad2_cpis_total, np.zeros(l))\n",
    "'''kmeans_grad2=KMeans(n_clusters=5, random_state=0).fit(grad2_cpis_total)\n",
    "kmeans_grad2_labels=kmeans_grad2.labels_\n",
    "print kmeans_grad2_labels\n",
    "print kmeans_grad2.cluster_centers_\n",
    "plt.scatter(kmeans_grad2_cpis_total, np.zeros(l-1))\n",
    "grad2_cpis_total_C0=grad2_cpis_total[np.where(kmeans_grad2_labels==0)]\n",
    "grad2_cpis_total_C1=grad2_cpis_total[np.where(kmeans_grad2_labels==1)]\n",
    "grad2_cpis_total_C2=grad2_cpis_total[np.where(kmeans_grad2_labels==2)]\n",
    "grad2_cpis_total_C3=grad2_cpis_total[np.where(kmeans_grad2_labels==3)]\n",
    "grad2_cpis_total_C4=grad2_cpis_total[np.where(kmeans_grad2_labels==4)]\n",
    "#colors=['C0', 'C1', 'C2', 'C3', 'C4', 'C5', 'C6', 'C7', 'C8', 'C9']\n",
    "plt.figure(0)\n",
    "plt.scatter(grad2_cpis_total_C0, np.zeros(np.size(grad2_cpis_total_C0)))\n",
    "plt.scatter(grad2_cpis_total_C1, np.zeros(np.size(grad2_cpis_total_C1)))\n",
    "plt.scatter(grad2_cpis_total_C2, np.zeros(np.size(grad2_cpis_total_C2)))\n",
    "plt.scatter(grad2_cpis_total_C3, np.zeros(np.size(grad2_cpis_total_C3)))\n",
    "plt.scatter(grad2_cpis_total_C4, np.zeros(np.size(grad2_cpis_total_C4)))\n",
    "\n",
    "plt.show()'''"
   ]
  },
  {
   "cell_type": "code",
   "execution_count": 93,
   "metadata": {},
   "outputs": [
    {
     "name": "stdout",
     "output_type": "stream",
     "text": [
      "[ 0.7   0.45  0.4   0.7   1.6   2.05  1.55  1.35  1.2   1.3  -0.15 -1.35\n",
      " -0.45  0.3   0.75  0.8   0.8   1.7   1.8   0.45 -0.1   0.   -0.35 -0.3\n",
      "  0.15  0.35  0.5   0.7   1.15  1.    0.9   0.9   0.65  0.6   0.   -0.15\n",
      " -0.05 -0.15  0.65  1.3   1.4   1.25  0.5  -0.1   0.15  0.15 -0.5  -0.45\n",
      "  0.1   0.3   0.25  0.25  0.45  1.4   2.2 ]\n",
      "No. of bins: 7\n"
     ]
    },
    {
     "data": {
      "image/png": "[encoded data removed]",
      "text/plain": [
       "<matplotlib.figure.Figure at 0x7f7a3e443c90>"
      ]
     },
     "metadata": {},
     "output_type": "display_data"
    }
   ],
   "source": [
    "#Gradient Analysis\n",
    "grad_gi=np.gradient(gi_total)\n",
    "print grad_gi\n",
    "loc_grad_gi, scale_grad_gi=stats.norm.fit(grad_gi)\n",
    "grad_gi_bins=np.histogram(grad_gi, bins='fd')\n",
    "print 'No. of bins:', np.size(grad_gi_bins[0])\n",
    "plt.hist(grad_gi, bins=np.size(grad_gi_bins[0]), normed=True, color='m')\n",
    "\n",
    "grad_range=np.linspace(loc_grad_gi-2, loc_grad_gi+2)\n",
    "plt.plot(grad_range, stats.norm.pdf(grad_range, loc_grad_gi, scale_grad_gi), 'k', linewidth=3)\n",
    "#plt.title('Fitting the grad with a normal distribution')\n",
    "plt.xlabel('Gradient of General index')\n",
    "plt.ylim(0, 0.7)\n",
    "plt.legend(['Best fit Normal distribution', 'Histogram of gradients'])\n",
    "plt.show()"
   ]
  },
  {
   "cell_type": "code",
   "execution_count": 80,
   "metadata": {},
   "outputs": [
    {
     "name": "stdout",
     "output_type": "stream",
     "text": [
      "(array([ 1,  4, 13, 14, 10,  9,  4]), array([-1.35      , -0.84285714, -0.33571429,  0.17142857,  0.67857143,\n",
      "        1.18571429,  1.69285714,  2.2       ]))\n"
     ]
    },
    {
     "data": {
      "text/plain": [
       "(array([0.05121639, 0.        , 0.25608195, 0.40973111, 0.51216389,\n",
       "        0.61459667, 0.25608195, 0.40973111, 0.20486556, 0.10243278]),\n",
       " array([-1.35 , -0.995, -0.64 , -0.285,  0.07 ,  0.425,  0.78 ,  1.135,\n",
       "         1.49 ,  1.845,  2.2  ]),\n",
       " <a list of 10 Patch objects>)"
      ]
     },
     "execution_count": 80,
     "metadata": {},
     "output_type": "execute_result"
    },
    {
     "data": {
      "image/png": "[encoded data removed]",
      "text/plain": [
       "<matplotlib.figure.Figure at 0x7f7a3a139990>"
      ]
     },
     "metadata": {},
     "output_type": "display_data"
    }
   ],
   "source": [
    "grad1_cpis_total=np.gradient(cpis_total)[0][:,-1]\n",
    "#print grad_cpis_total\n",
    "mu, std = stats.norm.fit(grad1_cpis_total)\n",
    "grad_cpis_total_bins=np.histogram(grad1_cpis_total, bins='fd')\n",
    "print grad_cpis_total_bins\n",
    "# Plot the histogram.\n",
    "#plt.hist(grad_cpis_total, bins=np.size(grad_cpis_total_bins[0]), normed=True, alpha=0.6, color='g')\n",
    "plt.hist(grad1_cpis_total, bins=10, normed=True, alpha=0.6, color='g')"
   ]
  },
  {
   "cell_type": "code",
   "execution_count": 25,
   "metadata": {},
   "outputs": [
    {
     "name": "stdout",
     "output_type": "stream",
     "text": [
      "[104.6 105.3 105.5 106.1 106.9 109.3 111.0 112.4 113.7 114.8 116.3 114.5\n",
      " 113.6 113.6 114.2 115.1 115.8 116.7 119.2 120.3 120.1 120.1 120.1 119.4\n",
      " 119.5 119.7 120.2 120.7 121.6 123.0 123.6 124.8 125.4 126.1 126.6 126.1\n",
      " 126.3 126.0 126.0 127.3 128.6 130.1 131.1 131.1 130.9 131.4 131.2 130.4\n",
      " 130.3 130.6 130.9 131.1 131.4 132.0 134.2]\n",
      "[ 4.6         5.3         5.5         6.1         6.9         9.3\n",
      " 11.         12.4        13.7        14.8        16.3        14.5\n",
      "  8.6042065   7.88224122  8.2464455   8.48256362  8.32553789  6.77035682\n",
      "  7.38738739  7.02846975  5.62884785  4.61672474  3.26741187  4.27947598\n",
      "  5.19366197  5.36971831  5.25394046  4.86533449  5.00863558  5.39845758\n",
      "  3.69127517  3.74064838  4.41298918  4.9958368   5.41215654  5.61139028\n",
      "  5.69037657  5.26315789  4.82529118  5.46810273  5.75657895  5.77235772\n",
      "  6.06796117  5.04807692  4.38596491  4.20301348  3.63349131  3.40999207\n",
      "  3.16706255  3.65079365  3.88888889  2.98507463  2.17729393  1.46041507\n",
      "  2.36460717]\n"
     ]
    }
   ],
   "source": [
    "#Annual inflation analysis\n",
    "n=np.size(gi_total)    #No. of data points of the general index\n",
    "inflation_gi=np.empty(n)\n",
    "for i in range(n):\n",
    "    if i<12:\n",
    "        inflation_gi[i]=100*(gi_total[i]/100-1)\n",
    "    else:\n",
    "        inflation_gi[i]=100*(gi_total[i]/gi_total[i-12]-1)\n",
    "print inflation_gi"
   ]
  },
  {
   "cell_type": "code",
   "execution_count": 94,
   "metadata": {
    "scrolled": true
   },
   "outputs": [
    {
     "name": "stdout",
     "output_type": "stream",
     "text": [
      "No. of bins: 11\n"
     ]
    },
    {
     "data": {
      "image/png": "[encoded data removed]",
      "text/plain": [
       "<matplotlib.figure.Figure at 0x7f7a39ee1e50>"
      ]
     },
     "metadata": {},
     "output_type": "display_data"
    }
   ],
   "source": [
    "loc_inflation_gi, scale_inflation_gi=stats.cauchy.fit(inflation_gi)[:2]\n",
    "inflation_gi_bins=np.histogram(inflation_gi, bins='auto')\n",
    "print 'No. of bins:', np.size(inflation_gi_bins[0])\n",
    "plt.hist(inflation_gi, bins=np.size(inflation_gi_bins[0]), normed=True, color='c')\n",
    "\n",
    "inflation_range=np.linspace(1, 17, 200)\n",
    "plt.plot(inflation_range, stats.cauchy.pdf(inflation_range, loc_inflation_gi, scale_inflation_gi), 'k')\n",
    "#plt.title('Fitting the inflation with a Cauchy distribution')\n",
    "plt.xlabel('Annualized Inflation (%)')\n",
    "plt.legend(['Best fit Cauchy distribution', 'Histogram of inflation'])\n",
    "plt.show()"
   ]
  }
 ],
 "metadata": {
  "kernelspec": {
   "display_name": "Python 2",
   "language": "python",
   "name": "python2"
  },
  "language_info": {
   "codemirror_mode": {
    "name": "ipython",
    "version": 2
   },
   "file_extension": ".py",
   "mimetype": "text/x-python",
   "name": "python",
   "nbconvert_exporter": "python",
   "pygments_lexer": "ipython2",
   "version": "2.7.14"
  }
 },
 "nbformat": 4,
 "nbformat_minor": 2
}
